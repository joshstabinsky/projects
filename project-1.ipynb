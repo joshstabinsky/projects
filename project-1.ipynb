{
 "cells": [
  {
   "cell_type": "markdown",
   "metadata": {},
   "source": [
    "# Project 1: Python Coding Exercises\n",
    "\n",
    "_Authors: Joseph Nelson (DC)_\n",
    "\n",
    "---"
   ]
  },
  {
   "cell_type": "markdown",
   "metadata": {},
   "source": [
    "The following code challenges are drawn from common exercises used in technical interviews.\n",
    "\n",
    "Please note that there may be several ways to approach each challenge. If you get stuck, try mapping out your approach in pseudocode first. Finally, while solutions to problems like these may be found online, remember that if you copy/paste code that you can't explain, you'll be missing out on the point of the project. The only way to truly learn a new skill is through practice, trial, and error - we can only help you improve by understanding where you are having trouble."
   ]
  },
  {
   "cell_type": "markdown",
   "metadata": {},
   "source": [
    "### Challenge 1: Largest Palindrome\n",
    "A palindromic number reads the same both ways. For example, 1234321 is a palindrome. The largest palindrome made from the product of two two-digit numbers is 9009 = 91 × 99. Find the largest palindrome made from the product of two three-digit numbers. Afterward, write a brief explanation walking through your code's logic in markdown."
   ]
  },
  {
   "cell_type": "code",
   "execution_count": null,
   "metadata": {},
   "outputs": [],
   "source": [
    "palindromes = []\n",
    "\n",
    "for x in range(100, 1000):\n",
    "    for y in range(100, 1000):\n",
    "        palindrome = True\n",
    "        num = str(x * y)\n",
    "        if num[::-1] != num:\n",
    "            palindrome = False\n",
    "        if palindrome:\n",
    "            palindromes.append(int(num))\n",
    "        \n",
    "print(max(palindromes))\n",
    "\n",
    "#this code iterates through all possible products of three-digit integers.\n",
    "#if the product is a palindrome, it is appended to a list as an int.\n",
    "#it is converted so that the max() function can be used on the list."
   ]
  },
  {
   "cell_type": "markdown",
   "metadata": {},
   "source": [
    "\n",
    "### Challenge 2: Summation of Primes\n",
    "The sum of the primes below 10 is 2 + 3 + 5 + 7 = 17. Find the sum of all the primes below 2,000. Afterward, write a brief explanation walking through your code's logic in markdown."
   ]
  },
  {
   "cell_type": "code",
   "execution_count": 47,
   "metadata": {},
   "outputs": [
    {
     "name": "stdout",
     "output_type": "stream",
     "text": [
      "277051\n"
     ]
    }
   ],
   "source": [
    "primes_sum = 1\n",
    "\n",
    "for num in range(2,2001):\n",
    "    prime = True\n",
    "    for n in range(2,num):\n",
    "        if (num % n == 0):\n",
    "            prime = False\n",
    "    if prime:\n",
    "       primes_sum += num\n",
    "       \n",
    "print(primes_sum)\n",
    "\n",
    "#this code iterates through each integer from 1 - 2,000\n",
    "#for each integer, the code checks whether or not the integer is divisisble by any number < than that integer\n",
    "#if meets this criteria the value is not a prime number, then it sets prime = false and skips that value\n",
    "#if it is a prime number, then it adds the value to the \"primes_sum\" variable and continues iterating until it hits 2000"
   ]
  },
  {
   "cell_type": "markdown",
   "metadata": {},
   "source": [
    "### Challenge 3: Multiples of 3 and 5\n",
    "If we list all of the natural numbers below 10 that are multiples of 3 or 5, we get 3, 5, 6, and 9. The sum of these multiples is 23. Find the sum of all the multiples of 3 and 5 below 1,000. Afterward, write a brief explanation walking through your code's logic in markdown."
   ]
  },
  {
   "cell_type": "code",
   "execution_count": 7,
   "metadata": {},
   "outputs": [
    {
     "name": "stdout",
     "output_type": "stream",
     "text": [
      "234168\n"
     ]
    }
   ],
   "source": [
    "n = 1\n",
    "sum_of_n = 0\n",
    "\n",
    "for n in range(1, 1001):\n",
    "    if n % 3 == 0 or n % 5 == 0:\n",
    "        sum_of_n = sum_of_n + n\n",
    "        n += 1\n",
    "        \n",
    "print(sum_of_n)\n",
    "\n",
    "#the program runs through each value between 1 and 1,000. \n",
    "#if the value is divisible by 3 or 5 it adds that number to a variable called \"sum_of_n\" that is initially set as 0/\n",
    "#when the program finishes looping it prints the final value of \"sum_of_n\""
   ]
  },
  {
   "cell_type": "markdown",
   "metadata": {},
   "source": [
    "### Challenge 4: String Compressor\n",
    "Implement a method to perform basic string compression using the counts of repeated characters. (This is called run-length encoding.) For example, the string \"aabcccccaaa\" would become a2b1c5a3. If the “compressed” string would not become smaller than the original string, your method should return the original string. You can assume the string has only uppercase and lowercase letters (a–z). Specify whether your solution is case sensitive or case insensitive and what you would need to change to make it the other. Afterward, write a brief explanation walking through your code's logic in markdown."
   ]
  },
  {
   "cell_type": "code",
   "execution_count": 36,
   "metadata": {},
   "outputs": [
    {
     "name": "stdout",
     "output_type": "stream",
     "text": [
      "j2J1o1s1h1\n"
     ]
    }
   ],
   "source": [
    "#this solution is case sensitive\n",
    "\n",
    "def compressor(string):\n",
    "    compressed = \"\"\n",
    "    for letter in string:\n",
    "        if not (letter) in compressed:\n",
    "            compressed = str(compressed) + (str(letter) + str(string.count(letter)))\n",
    "    if len(compressed) < len(string):\n",
    "        print (compressed)\n",
    "    else:\n",
    "        print(string)\n",
    "    \n",
    "compressor('jJJJJJJjjjjjjjjosh')\n",
    "\n",
    "#this solution is case insensitive\n",
    "\n",
    "def compressor(string):\n",
    "    string = string.lower()\n",
    "    compressed = \"\"\n",
    "    for letter in string:\n",
    "        if not (letter) in compressed:\n",
    "            compressed = str(compressed) + (str(letter) + str(string.count(letter)))\n",
    "    if len(compressed) < len(string):\n",
    "        print (compressed)\n",
    "    else:\n",
    "        print(string)\n",
    "        \n",
    "compressor('jJJJJJJjjjjjjjjosh')\n",
    "\n",
    "#in both cases, the function runs through the given string, counting the number of occurences of each letter.\n",
    "#it then adds the letter and count to a prevoiusly empty variable called \"compressed\"\n",
    "#if the length of #compressed is > the original string, it returns the original string, otherwise it returns \"compressed\"\n",
    "#in order to make the program case insensitive, the second program simply transforms the original string to all lowercase values"
   ]
  },
  {
   "cell_type": "markdown",
   "metadata": {},
   "source": [
    "### *BONUS* Challenge: FizzBuzz\n",
    "Write a program that prints all of the numbers from 1 to 100. For multiples of 3, instead of the number, print \"Fizz;\" for multiples of 5, print \"Buzz.\" For numbers that are multiples of both 3 and 5, print \"FizzBuzz.\" Afterward, write a brief explanation walking through your code's logic in markdown."
   ]
  },
  {
   "cell_type": "code",
   "execution_count": 2,
   "metadata": {},
   "outputs": [
    {
     "name": "stdout",
     "output_type": "stream",
     "text": [
      "1:\n",
      "2:\n",
      "3: fizz\n",
      "4:\n",
      "5: buzz\n",
      "6: fizz\n",
      "7:\n",
      "8:\n",
      "9: fizz\n",
      "10: buzz\n",
      "11:\n",
      "12: fizz\n",
      "13:\n",
      "14:\n",
      "15: fizzbuzz\n",
      "16:\n",
      "17:\n",
      "18: fizz\n",
      "19:\n",
      "20: buzz\n",
      "21: fizz\n",
      "22:\n",
      "23:\n",
      "24: fizz\n",
      "25: buzz\n",
      "26:\n",
      "27: fizz\n",
      "28:\n",
      "29:\n",
      "30: fizzbuzz\n",
      "31:\n",
      "32:\n",
      "33: fizz\n",
      "34:\n",
      "35: buzz\n",
      "36: fizz\n",
      "37:\n",
      "38:\n",
      "39: fizz\n",
      "40: buzz\n",
      "41:\n",
      "42: fizz\n",
      "43:\n",
      "44:\n",
      "45: fizzbuzz\n",
      "46:\n",
      "47:\n",
      "48: fizz\n",
      "49:\n",
      "50: buzz\n",
      "51: fizz\n",
      "52:\n",
      "53:\n",
      "54: fizz\n",
      "55: buzz\n",
      "56:\n",
      "57: fizz\n",
      "58:\n",
      "59:\n",
      "60: fizzbuzz\n",
      "61:\n",
      "62:\n",
      "63: fizz\n",
      "64:\n",
      "65: buzz\n",
      "66: fizz\n",
      "67:\n",
      "68:\n",
      "69: fizz\n",
      "70: buzz\n",
      "71:\n",
      "72: fizz\n",
      "73:\n",
      "74:\n",
      "75: fizzbuzz\n",
      "76:\n",
      "77:\n",
      "78: fizz\n",
      "79:\n",
      "80: buzz\n",
      "81: fizz\n",
      "82:\n",
      "83:\n",
      "84: fizz\n",
      "85: buzz\n",
      "86:\n",
      "87: fizz\n",
      "88:\n",
      "89:\n",
      "90: fizzbuzz\n",
      "91:\n",
      "92:\n",
      "93: fizz\n",
      "94:\n",
      "95: buzz\n",
      "96: fizz\n",
      "97:\n",
      "98:\n",
      "99: fizz\n",
      "100: buzz\n"
     ]
    }
   ],
   "source": [
    "for i in range(1,101,1):\n",
    "    if i % 3 == 0 and i % 5 == 0:\n",
    "        print(str(i) + ': fizzbuzz')\n",
    "    elif i % 5 == 0 :\n",
    "        print(str(i) + ': buzz')\n",
    "    elif i % 3 == 0 :\n",
    "        print(str(i) + ': fizz')\n",
    "    else:\n",
    "        print(str(i) + ':')\n",
    "        \n",
    "#this code loops through each integer from 1-100 and checks first to see if the value is divisible by 3 and 5.\n",
    "#it has to start with the \"divisible by 3 and 5\" condition otherwise nothing would be replaced with \"fizzbuzz\".\n",
    "#it then checks for divisibility by 3 and 5 individually (order at this point doesn't matter)."
   ]
  }
 ],
 "metadata": {
  "anaconda-cloud": {},
  "kernelspec": {
   "display_name": "Python 3",
   "language": "python",
   "name": "python3"
  },
  "language_info": {
   "codemirror_mode": {
    "name": "ipython",
    "version": 3
   },
   "file_extension": ".py",
   "mimetype": "text/x-python",
   "name": "python",
   "nbconvert_exporter": "python",
   "pygments_lexer": "ipython3",
   "version": "3.6.9"
  }
 },
 "nbformat": 4,
 "nbformat_minor": 2
}
